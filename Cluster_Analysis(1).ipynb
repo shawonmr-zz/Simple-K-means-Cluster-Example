{
 "cells": [
  {
   "cell_type": "code",
   "execution_count": 71,
   "metadata": {},
   "outputs": [],
   "source": [
    "#Import required libraries\n",
    "from __future__ import absolute_import, division, print_function\n",
    "import pathlib\n",
    "import math\n",
    "import matplotlib.pyplot as plt\n",
    "import pandas as pd\n",
    "import seaborn as sns\n",
    "import numpy as np\n",
    "import tensorflow as tf\n",
    "from tensorflow import keras\n",
    "from tensorflow.keras import layers\n",
    "import datetime as dt\n",
    "from keras import initializers\n",
    "from keras.layers import Input, Dense\n",
    "from keras.models import Model,Sequential\n",
    "from keras import optimizers\n",
    "from keras.layers import LSTM\n",
    "from sklearn.preprocessing import MinMaxScaler\n",
    "from sklearn.metrics import mean_squared_error\n",
    "from sklearn.cluster import KMeans\n",
    "from sklearn import model_selection\n",
    "from sklearn.externals import joblib\n",
    "from keras.models import Sequential\n",
    "from keras.layers import Dense\n",
    "from sklearn.metrics import r2_score\n",
    "import subprocess"
   ]
  },
  {
   "cell_type": "code",
   "execution_count": 72,
   "metadata": {},
   "outputs": [
    {
     "name": "stdout",
     "output_type": "stream",
     "text": [
      "b'\\n'\n",
      "b'/zc_files/carbonppm_maunaloa.csv\\n'\n",
      "b'/zc_files/northseaice.csv\\n'\n",
      "b'/zc_files/northsouthice_globaltemps1.csv\\n'\n",
      "b'/zc_files/seaice_and_globaltemps.csv\\n'\n",
      "b'/zc_files/southseaice.csv\\n'\n"
     ]
    }
   ],
   "source": [
    "#Print the files stored in an hdfs folder\n",
    "p = subprocess.Popen(\"hdfs dfs -ls /zc_files |  awk '{print $8}'\",\n",
    "    shell=True,\n",
    "    stdout=subprocess.PIPE,\n",
    "    stderr=subprocess.STDOUT)\n",
    "\n",
    "for line in p.stdout.readlines():\n",
    "    print (line)"
   ]
  },
  {
   "cell_type": "code",
   "execution_count": 73,
   "metadata": {},
   "outputs": [
    {
     "name": "stdout",
     "output_type": "stream",
     "text": [
      "Saving all output to \"/Users/daveloaiza/Apps/ZeroCopy/ge-lib-zc-adapters/adapters/seaice_and_globaltemps.csv\". Enter \"record\" with no arguments to stop it.\n",
      "\n",
      "'Year','Month','Day','ExtentNorth','ExtentSouth','LandAverageTemperature','LandMaxTemperature'\n",
      "\n",
      "'1978','10','26','10.231','17.624','',''\n",
      "\n"
     ]
    }
   ],
   "source": [
    "#Read some part of the file to get the column name\n",
    "cat = subprocess.Popen([\"hadoop\", \"fs\", \"-cat\", \"/zc_files/seaice_and_globaltemps.csv\"], stdout=subprocess.PIPE)\n",
    "c = 0\n",
    "for line in cat.stdout:\n",
    "    line = line.decode('utf-8')\n",
    "    print(line)\n",
    "    if c > 1:\n",
    "        break\n",
    "    c = c+1"
   ]
  },
  {
   "cell_type": "code",
   "execution_count": 74,
   "metadata": {},
   "outputs": [
    {
     "name": "stdout",
     "output_type": "stream",
     "text": [
      "         Year Month   Day ExtentNorth ExtentSouth LandAverageTemperature  \\\n",
      "0      '1978'  '10'  '28'    '10.420'    '17.803'                     ''   \n",
      "1      '1978'  '10'  '30'    '10.557'    '17.670'                     ''   \n",
      "2      '1978'  '11'  '01'    '10.670'    '17.527'   '6.3500000000000005'   \n",
      "3      '1978'  '11'  '03'    '10.777'    '17.486'                     ''   \n",
      "4      '1978'  '11'  '05'    '10.968'    '17.343'                     ''   \n",
      "5      '1978'  '11'  '07'    '11.080'    '17.157'                     ''   \n",
      "6      '1978'  '11'  '09'    '11.189'    '17.028'                     ''   \n",
      "7      '1978'  '11'  '11'    '11.314'    '16.815'                     ''   \n",
      "8      '1978'  '11'  '13'    '11.460'    '16.371'                     ''   \n",
      "9      '1978'  '11'  '15'    '11.539'    '16.176'                     ''   \n",
      "10     '1978'  '11'  '17'    '11.696'    '15.520'                     ''   \n",
      "11     '1978'  '11'  '19'    '11.870'    '15.267'                     ''   \n",
      "12     '1978'  '11'  '21'    '12.053'    '15.027'                     ''   \n",
      "13     '1978'  '11'  '23'    '12.274'    '14.681'                     ''   \n",
      "14     '1978'  '11'  '25'    '12.441'    '14.449'                     ''   \n",
      "15     '1978'  '11'  '27'    '12.662'    '13.980'                     ''   \n",
      "16     '1978'  '11'  '29'    '12.684'    '13.619'                     ''   \n",
      "17     '1978'  '12'  '01'    '12.725'    '13.330'                 '3.74'   \n",
      "18     '1978'  '12'  '03'    '12.660'    '13.097'                     ''   \n",
      "19     '1978'  '12'  '05'    '12.785'    '12.829'                     ''   \n",
      "20     '1978'  '12'  '07'    '13.051'    '12.436'                     ''   \n",
      "21     '1978'  '12'  '09'    '13.143'    '11.963'                     ''   \n",
      "22     '1978'  '12'  '11'    '13.437'    '11.652'                     ''   \n",
      "23     '1978'  '12'  '13'    '13.603'    '11.148'                     ''   \n",
      "24     '1978'  '12'  '15'    '13.649'    '10.664'                     ''   \n",
      "25     '1978'  '12'  '17'    '13.807'    '10.239'                     ''   \n",
      "26     '1978'  '12'  '19'    '13.892'     '9.758'                     ''   \n",
      "27     '1978'  '12'  '21'    '13.996'     '9.362'                     ''   \n",
      "28     '1978'  '12'  '23'    '14.189'     '8.706'                     ''   \n",
      "29     '1978'  '12'  '25'    '14.268'     '8.362'                     ''   \n",
      "...       ...   ...   ...         ...         ...                    ...   \n",
      "13095  '2019'  '03'  '12'    '14.771'     '2.842'                     ''   \n",
      "13096  '2019'  '03'  '13'    '14.749'     '2.917'                     ''   \n",
      "13097  '2019'  '03'  '14'    '14.683'     '3.012'                     ''   \n",
      "13098  '2019'  '03'  '15'    '14.701'     '2.957'                     ''   \n",
      "13099  '2019'  '03'  '16'    '14.721'     '3.007'                     ''   \n",
      "13100  '2019'  '03'  '17'    '14.673'     '3.081'                     ''   \n",
      "13101  '2019'  '03'  '18'    '14.558'     '3.171'                     ''   \n",
      "13102  '2019'  '03'  '19'    '14.503'     '3.291'                     ''   \n",
      "13103  '2019'  '03'  '20'    '14.641'     '3.332'                     ''   \n",
      "13104  '2019'  '03'  '21'    '14.658'     '3.420'                     ''   \n",
      "13105  '2019'  '03'  '22'    '14.613'     '3.504'                     ''   \n",
      "13106  '2019'  '03'  '23'    '14.527'     '3.618'                     ''   \n",
      "13107  '2019'  '03'  '24'    '14.457'     '3.638'                     ''   \n",
      "13108  '2019'  '03'  '25'    '14.389'     '3.685'                     ''   \n",
      "13109  '2019'  '03'  '26'    '14.312'     '3.820'                     ''   \n",
      "13110  '2019'  '03'  '27'    '14.271'     '3.868'                     ''   \n",
      "13111  '2019'  '03'  '28'    '14.257'     '3.920'                     ''   \n",
      "13112  '2019'  '03'  '29'    '14.242'     '3.975'                     ''   \n",
      "13113  '2019'  '03'  '30'    '14.051'     '4.045'                     ''   \n",
      "13114  '2019'  '03'  '31'    '14.041'     '4.163'                     ''   \n",
      "13115  '2019'  '04'  '01'    '14.038'     '4.240'                     ''   \n",
      "13116  '2019'  '04'  '02'    '14.005'     '4.417'                     ''   \n",
      "13117  '2019'  '04'  '03'    '13.976'     '4.478'                     ''   \n",
      "13118  '2019'  '04'  '04'    '13.964'     '4.564'                     ''   \n",
      "13119  '2019'  '04'  '05'    '13.776'     '4.730'                     ''   \n",
      "13120  '2019'  '04'  '06'    '13.599'     '4.856'                     ''   \n",
      "13121  '2019'  '04'  '07'    '13.522'     '4.902'                     ''   \n",
      "13122  '2019'  '04'  '08'    '13.570'     '4.993'                     ''   \n",
      "13123  '2019'  '04'  '09'    '13.580'     '5.103'                     ''   \n",
      "13124  '2019'  '04'  '10'    '13.547'     '5.207'                     ''   \n",
      "\n",
      "      LandMaxTemperature  \n",
      "0                   ''\\n  \n",
      "1                   ''\\n  \n",
      "2             '11.685'\\n  \n",
      "3                   ''\\n  \n",
      "4                   ''\\n  \n",
      "5                   ''\\n  \n",
      "6                   ''\\n  \n",
      "7                   ''\\n  \n",
      "8                   ''\\n  \n",
      "9                   ''\\n  \n",
      "10                  ''\\n  \n",
      "11                  ''\\n  \n",
      "12                  ''\\n  \n",
      "13                  ''\\n  \n",
      "14                  ''\\n  \n",
      "15                  ''\\n  \n",
      "16                  ''\\n  \n",
      "17             '9.195'\\n  \n",
      "18                  ''\\n  \n",
      "19                  ''\\n  \n",
      "20                  ''\\n  \n",
      "21                  ''\\n  \n",
      "22                  ''\\n  \n",
      "23                  ''\\n  \n",
      "24                  ''\\n  \n",
      "25                  ''\\n  \n",
      "26                  ''\\n  \n",
      "27                  ''\\n  \n",
      "28                  ''\\n  \n",
      "29                  ''\\n  \n",
      "...                  ...  \n",
      "13095               ''\\n  \n",
      "13096               ''\\n  \n",
      "13097               ''\\n  \n",
      "13098               ''\\n  \n",
      "13099               ''\\n  \n",
      "13100               ''\\n  \n",
      "13101               ''\\n  \n",
      "13102               ''\\n  \n",
      "13103               ''\\n  \n",
      "13104               ''\\n  \n",
      "13105               ''\\n  \n",
      "13106               ''\\n  \n",
      "13107               ''\\n  \n",
      "13108               ''\\n  \n",
      "13109               ''\\n  \n",
      "13110               ''\\n  \n",
      "13111               ''\\n  \n",
      "13112               ''\\n  \n",
      "13113               ''\\n  \n",
      "13114               ''\\n  \n",
      "13115               ''\\n  \n",
      "13116               ''\\n  \n",
      "13117               ''\\n  \n",
      "13118               ''\\n  \n",
      "13119               ''\\n  \n",
      "13120               ''\\n  \n",
      "13121               ''\\n  \n",
      "13122               ''\\n  \n",
      "13123               ''\\n  \n",
      "13124               ''\\n  \n",
      "\n",
      "[13125 rows x 7 columns]\n"
     ]
    }
   ],
   "source": [
    "#Read a file and store in a dataframe\n",
    "cat = subprocess.Popen([\"hadoop\", \"fs\", \"-cat\", \"/zc_files/seaice_and_globaltemps.csv\"], stdout=subprocess.PIPE)\n",
    "sea_global = pd.DataFrame(columns=[\"Year\",\"Month\",\"Day\",\"ExtentNorth\",\"ExtentSouth\",\"LandAverageTemperature\",\"LandMaxTemperature\"])\n",
    "c = 0\n",
    "for line in cat.stdout:\n",
    "    line = line.decode('utf-8')\n",
    "    str_line = line\n",
    "    if c > 2:\n",
    "        string = str_line.split(',')\n",
    "        if len(string) == 7:\n",
    "            sea_global.loc[len(sea_global)] = string\n",
    "    c = c + 1\n",
    "print(sea_global)"
   ]
  },
  {
   "cell_type": "code",
   "execution_count": 75,
   "metadata": {},
   "outputs": [
    {
     "name": "stdout",
     "output_type": "stream",
     "text": [
      "Saving all output to \"/Users/daveloaiza/Apps/ZeroCopy/ge-lib-zc-adapters/adapters/carbonppm_maunaloa.csv\". Enter \"record\" with no arguments to stop it.\n",
      "\n",
      "'YYYY','M','DD','ppm'\n",
      "\n",
      "'1980','9','14','336.24'\n",
      "\n"
     ]
    }
   ],
   "source": [
    "#Read some part of the file to get the column name\n",
    "cat = subprocess.Popen([\"hadoop\", \"fs\", \"-cat\", \"/zc_files/carbonppm_maunaloa.csv\"], stdout=subprocess.PIPE)\n",
    "c = 0\n",
    "for line in cat.stdout:\n",
    "    line = line.decode('utf-8')\n",
    "    print(line)\n",
    "    if c > 1:\n",
    "        break\n",
    "    c = c+1"
   ]
  },
  {
   "cell_type": "code",
   "execution_count": 76,
   "metadata": {},
   "outputs": [
    {
     "name": "stdout",
     "output_type": "stream",
     "text": [
      "        Year Month   Day          PPM\n",
      "0     '1980'   '9'  '28'   '335.99'\\n\n",
      "1     '1980'  '11'   '2'   '336.97'\\n\n",
      "2     '1980'  '11'  '23'   '337.64'\\n\n",
      "3     '1980'  '12'  '21'   '338.52'\\n\n",
      "4     '1980'  '12'  '28'   '338.60'\\n\n",
      "5     '1981'   '4'  '19'   '342.54'\\n\n",
      "6     '1981'   '6'  '28'   '341.71'\\n\n",
      "7     '1981'   '8'   '2'   '339.30'\\n\n",
      "8     '1981'   '8'  '16'   '338.18'\\n\n",
      "9     '1981'   '8'  '30'   '337.60'\\n\n",
      "10    '1981'   '9'  '27'   '336.24'\\n\n",
      "11    '1981'  '11'   '1'   '338.13'\\n\n",
      "12    '1981'  '11'  '22'   '339.23'\\n\n",
      "13    '1982'   '1'  '10'   '340.75'\\n\n",
      "14    '1982'   '2'  '14'   '341.34'\\n\n",
      "15    '1982'   '2'  '21'   '341.97'\\n\n",
      "16    '1982'   '3'  '14'   '342.71'\\n\n",
      "17    '1982'   '3'  '21'  '-999.99'\\n\n",
      "18    '1982'   '4'  '18'  '-999.99'\\n\n",
      "19    '1978'   '7'  '23'   '335.74'\\n\n",
      "20    '1978'   '8'   '6'   '334.64'\\n\n",
      "21    '1978'  '10'   '8'   '331.85'\\n\n",
      "22    '1978'  '12'  '10'   '334.96'\\n\n",
      "23    '1974'   '6'   '2'   '332.32'\\n\n",
      "24    '1979'   '1'  '21'   '336.93'\\n\n",
      "25    '1974'   '8'  '18'   '329.06'\\n\n",
      "26    '1979'   '7'   '1'   '338.14'\\n\n",
      "27    '1974'   '9'  '15'   '326.73'\\n\n",
      "28    '1979'   '7'  '29'   '336.84'\\n\n",
      "29    '1979'   '9'  '23'   '333.61'\\n\n",
      "...      ...   ...   ...          ...\n",
      "2311  '2015'  '10'  '18'   '398.52'\\n\n",
      "2312  '2015'  '11'  '15'   '400.35'\\n\n",
      "2313  '2015'  '12'  '13'   '402.35'\\n\n",
      "2314  '2016'   '1'  '10'   '402.48'\\n\n",
      "2315  '2016'   '1'  '17'   '402.61'\\n\n",
      "2316  '2016'   '3'  '20'   '405.66'\\n\n",
      "2317  '2016'   '5'  '29'   '407.55'\\n\n",
      "2318  '2016'   '6'   '5'   '406.88'\\n\n",
      "2319  '2016'   '8'   '7'   '402.90'\\n\n",
      "2320  '2016'   '8'  '28'   '401.00'\\n\n",
      "2321  '2016'   '9'   '4'   '400.99'\\n\n",
      "2322  '2016'  '11'  '27'   '404.40'\\n\n",
      "2323  '2017'   '1'   '8'   '406.02'\\n\n",
      "2324  '2017'   '1'  '15'   '406.18'\\n\n",
      "2325  '2017'   '4'   '9'   '408.89'\\n\n",
      "2326  '2017'   '4'  '30'   '409.17'\\n\n",
      "2327  '2017'   '7'   '9'   '407.06'\\n\n",
      "2328  '2017'   '8'  '13'   '405.20'\\n\n",
      "2329  '2017'   '9'  '24'   '402.76'\\n\n",
      "2330  '2018'   '1'  '28'   '407.88'\\n\n",
      "2331  '2018'   '5'   '6'   '411.06'\\n\n",
      "2332  '2018'   '5'  '27'   '411.39'\\n\n",
      "2333  '2018'   '7'   '8'   '409.16'\\n\n",
      "2334  '2018'   '8'  '26'   '406.26'\\n\n",
      "2335  '2018'  '10'  '14'   '406.00'\\n\n",
      "2336  '2018'  '10'  '21'   '406.62'\\n\n",
      "2337  '2018'  '11'   '4'   '406.99'\\n\n",
      "2338  '2018'  '12'  '16'   '409.30'\\n\n",
      "2339  '2019'   '1'  '20'   '411.99'\\n\n",
      "2340  '2019'   '3'  '31'   '412.21'\\n\n",
      "\n",
      "[2341 rows x 4 columns]\n"
     ]
    }
   ],
   "source": [
    "#Read a file and store in a dataframe\n",
    "cat = subprocess.Popen([\"hadoop\", \"fs\", \"-cat\", \"/zc_files/carbonppm_maunaloa.csv\"], stdout=subprocess.PIPE)\n",
    "carbon = pd.DataFrame(columns=[\"Year\",\"Month\",\"Day\",\"PPM\"])\n",
    "c = 0\n",
    "for line in cat.stdout:\n",
    "    line = line.decode('utf-8')\n",
    "    str_line = line\n",
    "    if c > 2:\n",
    "        string = str_line.split(',')\n",
    "        if len(string) == 4:\n",
    "            carbon.loc[len(carbon)] = string\n",
    "    c = c + 1\n",
    "print(carbon)"
   ]
  },
  {
   "cell_type": "code",
   "execution_count": 77,
   "metadata": {},
   "outputs": [
    {
     "name": "stdout",
     "output_type": "stream",
     "text": [
      "       Year Month   Day ExtentNorth ExtentSouth LandAverageTemperature  \\\n",
      "0    '1978'  '11'  '19'    '11.870'    '15.267'                     ''   \n",
      "1    '1978'  '12'  '17'    '13.807'    '10.239'                     ''   \n",
      "2    '1978'  '12'  '31'    '14.585'     '7.283'                     ''   \n",
      "3    '1979'  '10'  '21'     '9.295'    '17.738'                     ''   \n",
      "4    '1979'  '11'  '18'    '11.010'    '15.256'                     ''   \n",
      "5    '1979'  '12'  '16'    '13.322'     '9.125'                     ''   \n",
      "6    '1979'  '12'  '30'    '14.092'     '6.124'                     ''   \n",
      "7    '1980'  '10'  '19'     '9.389'    '18.536'                     ''   \n",
      "8    '1980'  '11'  '16'    '11.217'    '16.394'                     ''   \n",
      "9    '1980'  '11'  '30'    '12.626'    '13.876'                     ''   \n",
      "10   '1980'  '12'  '14'    '13.685'    '10.702'                     ''   \n",
      "11   '1980'  '12'  '28'    '14.172'     '7.178'                     ''   \n",
      "12   '1981'  '10'  '18'     '9.062'    '18.469'                     ''   \n",
      "13   '1981'  '11'  '15'    '10.965'    '16.301'                     ''   \n",
      "14   '1981'  '11'  '29'    '11.882'    '14.630'                     ''   \n",
      "15   '1981'  '12'  '13'    '13.217'    '12.133'                     ''   \n",
      "16   '1981'  '12'  '27'    '13.953'     '8.005'                     ''   \n",
      "17   '1982'  '10'  '17'     '9.797'    '17.787'                     ''   \n",
      "18   '1982'  '10'  '31'    '10.615'    '17.128'                     ''   \n",
      "19   '1982'  '11'  '14'    '11.573'    '16.123'                     ''   \n",
      "20   '1982'  '11'  '28'    '12.483'    '13.604'                     ''   \n",
      "21   '1982'  '12'  '12'    '13.503'    '10.089'                     ''   \n",
      "22   '1982'  '12'  '26'    '14.183'     '7.180'                     ''   \n",
      "23   '1983'  '10'  '16'     '9.453'    '18.032'                     ''   \n",
      "24   '1983'  '10'  '30'    '10.314'    '17.432'                     ''   \n",
      "25   '1983'  '11'  '13'    '11.322'    '16.394'                     ''   \n",
      "26   '1983'  '11'  '27'    '12.208'    '14.447'                     ''   \n",
      "27   '1983'  '12'  '11'    '13.192'    '11.617'                     ''   \n",
      "28   '1983'  '12'  '25'    '13.540'     '8.248'                     ''   \n",
      "29   '1984'  '10'  '14'     '8.334'    '17.581'                     ''   \n",
      "..      ...   ...   ...         ...         ...                    ...   \n",
      "307  '2015'  '12'  '20'    '12.299'     '9.759'                     ''   \n",
      "308  '2015'  '12'  '27'    '12.680'     '8.358'                     ''   \n",
      "309  '2016'  '10'  '16'     '5.928'    '17.573'                     ''   \n",
      "310  '2016'  '10'  '23'     '6.750'    '17.102'                     ''   \n",
      "311  '2016'  '10'  '30'     '7.105'    '16.572'                     ''   \n",
      "312  '2016'  '11'  '13'     '8.653'    '14.558'                     ''   \n",
      "313  '2016'  '11'  '20'     '8.692'    '13.352'                     ''   \n",
      "314  '2016'  '11'  '27'     '9.635'    '12.399'                     ''   \n",
      "315  '2016'  '12'  '11'    '11.244'     '9.184'                     ''   \n",
      "316  '2016'  '12'  '18'    '11.774'     '7.686'                     ''   \n",
      "317  '2016'  '12'  '25'    '12.027'     '6.377'                     ''   \n",
      "318  '2017'  '10'  '15'     '6.553'    '17.813'                     ''   \n",
      "319  '2017'  '10'  '22'     '7.556'    '17.582'                     ''   \n",
      "320  '2017'  '10'  '29'     '8.061'    '17.311'                     ''   \n",
      "321  '2017'  '11'  '12'     '9.316'    '15.669'                     ''   \n",
      "322  '2017'  '11'  '19'     '9.744'    '14.574'                     ''   \n",
      "323  '2017'  '11'  '26'    '10.286'    '13.485'                     ''   \n",
      "324  '2017'  '12'  '10'    '11.569'    '10.769'                     ''   \n",
      "325  '2017'  '12'  '17'    '11.923'     '9.079'                     ''   \n",
      "326  '2017'  '12'  '24'    '12.140'     '7.643'                     ''   \n",
      "327  '2017'  '12'  '31'    '12.397'     '6.591'                     ''   \n",
      "328  '2018'  '10'  '14'     '5.608'    '17.861'                     ''   \n",
      "329  '2018'  '10'  '21'     '6.376'    '17.476'                     ''   \n",
      "330  '2018'  '10'  '28'     '7.588'    '17.065'                     ''   \n",
      "331  '2018'  '11'  '11'     '9.449'    '15.631'                     ''   \n",
      "332  '2018'  '11'  '18'    '10.110'    '14.791'                     ''   \n",
      "333  '2018'  '11'  '25'    '10.716'    '13.874'                     ''   \n",
      "334  '2018'  '12'  '16'    '11.971'     '9.071'                     ''   \n",
      "335  '2018'  '12'  '23'    '12.316'     '6.780'                     ''   \n",
      "336  '2018'  '12'  '30'    '12.522'     '5.477'                     ''   \n",
      "\n",
      "    LandMaxTemperature         PPM  \n",
      "0                 ''\\n  '334.12'\\n  \n",
      "1                 ''\\n  '335.20'\\n  \n",
      "2                 ''\\n  '335.20'\\n  \n",
      "3                 ''\\n  '334.12'\\n  \n",
      "4                 ''\\n  '335.63'\\n  \n",
      "5                 ''\\n  '337.01'\\n  \n",
      "6                 ''\\n  '337.53'\\n  \n",
      "7                 ''\\n  '336.51'\\n  \n",
      "8                 ''\\n  '337.20'\\n  \n",
      "9                 ''\\n  '337.88'\\n  \n",
      "10                ''\\n  '338.50'\\n  \n",
      "11                ''\\n  '338.60'\\n  \n",
      "12                ''\\n  '337.22'\\n  \n",
      "13                ''\\n  '338.43'\\n  \n",
      "14                ''\\n  '339.72'\\n  \n",
      "15                ''\\n  '339.64'\\n  \n",
      "16                ''\\n  '340.51'\\n  \n",
      "17                ''\\n  '338.25'\\n  \n",
      "18                ''\\n  '339.02'\\n  \n",
      "19                ''\\n  '339.56'\\n  \n",
      "20                ''\\n  '339.82'\\n  \n",
      "21                ''\\n  '340.81'\\n  \n",
      "22                ''\\n  '341.42'\\n  \n",
      "23                ''\\n  '340.82'\\n  \n",
      "24                ''\\n  '341.07'\\n  \n",
      "25                ''\\n  '341.66'\\n  \n",
      "26                ''\\n  '342.24'\\n  \n",
      "27                ''\\n  '342.74'\\n  \n",
      "28                ''\\n  '343.63'\\n  \n",
      "29                ''\\n  '341.99'\\n  \n",
      "..                 ...         ...  \n",
      "307               ''\\n  '402.60'\\n  \n",
      "308               ''\\n  '402.08'\\n  \n",
      "309               ''\\n  '401.67'\\n  \n",
      "310               ''\\n  '402.09'\\n  \n",
      "311               ''\\n  '402.83'\\n  \n",
      "312               ''\\n  '403.76'\\n  \n",
      "313               ''\\n  '404.00'\\n  \n",
      "314               ''\\n  '404.40'\\n  \n",
      "315               ''\\n  '404.79'\\n  \n",
      "316               ''\\n  '404.43'\\n  \n",
      "317               ''\\n  '404.78'\\n  \n",
      "318               ''\\n  '403.95'\\n  \n",
      "319               ''\\n  '404.00'\\n  \n",
      "320               ''\\n  '404.15'\\n  \n",
      "321               ''\\n  '405.07'\\n  \n",
      "322               ''\\n  '406.12'\\n  \n",
      "323               ''\\n  '406.33'\\n  \n",
      "324               ''\\n  '406.53'\\n  \n",
      "325               ''\\n  '406.83'\\n  \n",
      "326               ''\\n  '407.21'\\n  \n",
      "327               ''\\n  '407.37'\\n  \n",
      "328               ''\\n  '406.00'\\n  \n",
      "329               ''\\n  '406.62'\\n  \n",
      "330               ''\\n  '406.48'\\n  \n",
      "331               ''\\n  '408.72'\\n  \n",
      "332               ''\\n  '408.60'\\n  \n",
      "333               ''\\n  '408.38'\\n  \n",
      "334               ''\\n  '409.30'\\n  \n",
      "335               ''\\n  '409.13'\\n  \n",
      "336               ''\\n  '409.60'\\n  \n",
      "\n",
      "[337 rows x 8 columns]\n"
     ]
    }
   ],
   "source": [
    "#Join operation to find out same records \n",
    "dataset = pd.merge(sea_global,carbon,on=['Year','Month','Day'],how='inner')\n",
    "print(dataset)"
   ]
  },
  {
   "cell_type": "code",
   "execution_count": 78,
   "metadata": {},
   "outputs": [
    {
     "data": {
      "image/png": "[encoded data removed]",
      "text/plain": [
       "<Figure size 432x288 with 1 Axes>"
      ]
     },
     "metadata": {},
     "output_type": "display_data"
    }
   ],
   "source": [
    "#Plot the results\n",
    "dataset['PPM'] = dataset['PPM'].apply(lambda x: x.replace(\"'\",\"\"))\n",
    "dataset['PPM'] = dataset['PPM'].astype(float)\n",
    "dataset['ExtentNorth'] = dataset['ExtentNorth'].apply(lambda x:x.replace(\"'\",\"\"))\n",
    "dataset['ExtentNorth'] = dataset['ExtentNorth'].astype(float)\n",
    "dataset = dataset[dataset['PPM']>0] #drop the negative values\n",
    "dataset.plot(kind='scatter',x='PPM',y='ExtentNorth',color='blue')\n",
    "plt.show()"
   ]
  },
  {
   "cell_type": "code",
   "execution_count": 79,
   "metadata": {},
   "outputs": [
    {
     "data": {
      "text/plain": [
       "[<matplotlib.lines.Line2D at 0x7fe7fd42a160>]"
      ]
     },
     "execution_count": 79,
     "metadata": {},
     "output_type": "execute_result"
    },
    {
     "data": {
      "image/png": "[encoded data removed]",
      "text/plain": [
       "<Figure size 432x288 with 1 Axes>"
      ]
     },
     "metadata": {},
     "output_type": "display_data"
    }
   ],
   "source": [
    "#Normalizing the data set\n",
    "dataset.PPM = dataset['PPM']/dataset['PPM'].max()\n",
    "dataset.ExtentNorth = dataset['ExtentNorth']/dataset['ExtentNorth'].max()\n",
    "plt.plot(dataset.PPM,dataset.ExtentNorth,'g.')"
   ]
  },
  {
   "cell_type": "code",
   "execution_count": 80,
   "metadata": {},
   "outputs": [
    {
     "name": "stdout",
     "output_type": "stream",
     "text": [
      "0.405947271095252\n"
     ]
    },
    {
     "data": {
      "text/plain": [
       "['kmeans_cluster.model']"
      ]
     },
     "execution_count": 80,
     "metadata": {},
     "output_type": "execute_result"
    },
    {
     "data": {
      "image/png": "[encoded data removed]",
      "text/plain": [
       "<Figure size 432x288 with 1 Axes>"
      ]
     },
     "metadata": {},
     "output_type": "display_data"
    },
    {
     "data": {
      "text/plain": [
       "<Figure size 432x288 with 0 Axes>"
      ]
     },
     "metadata": {},
     "output_type": "display_data"
    }
   ],
   "source": [
    "#K-means cluster analysis on the data set\n",
    "X = np.array(list(zip(dataset.PPM,dataset.ExtentNorth)))\n",
    "kmeans = KMeans(n_clusters=10)\n",
    "kmeans.fit(X)\n",
    "y_kmeans = kmeans.predict(X)\n",
    "plt.scatter(X[:,0], X[:,1], c=y_kmeans, s=50, cmap='viridis')\n",
    "centers = kmeans.cluster_centers_\n",
    "plt.scatter(centers[:, 0], centers[:, 1], c='black', s=200, alpha=0.5);\n",
    "print(kmeans.inertia_) #Get the Inertia: Sum of distances of samples to their closest cluster center\n",
    "plt.figure()\n",
    "#finally save the model\n",
    "file_name = 'kmeans_cluster.model'\n",
    "joblib.dump(kmeans,file_name)"
   ]
  },
  {
   "cell_type": "code",
   "execution_count": 81,
   "metadata": {},
   "outputs": [
    {
     "name": "stdout",
     "output_type": "stream",
     "text": [
      "ppm and extN belongs to cluster: [5]\n"
     ]
    }
   ],
   "source": [
    "#Load and test the model with a data set\n",
    "loaded_model = joblib.load(file_name)\n",
    "ppm = 0.9\n",
    "extN = 0.8\n",
    "dataset = [[ppm,extN]]\n",
    "print('ppm and extN belongs to cluster:',loaded_model.predict(dataset))"
   ]
  },
  {
   "cell_type": "code",
   "execution_count": null,
   "metadata": {},
   "outputs": [],
   "source": []
  }
 ],
 "metadata": {
  "kernelspec": {
   "display_name": "Python 3",
   "language": "python",
   "name": "python3"
  },
  "language_info": {
   "codemirror_mode": {
    "name": "ipython",
    "version": 3
   },
   "file_extension": ".py",
   "mimetype": "text/x-python",
   "name": "python",
   "nbconvert_exporter": "python",
   "pygments_lexer": "ipython3",
   "version": "3.7.3"
  }
 },
 "nbformat": 4,
 "nbformat_minor": 2
}
